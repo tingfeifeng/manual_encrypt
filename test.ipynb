{
 "cells": [
  {
   "cell_type": "code",
   "execution_count": 1,
   "metadata": {},
   "outputs": [],
   "source": [
    "import os\n",
    "from cryptography.hazmat.primitives.ciphers import Cipher, algorithms, modes\n",
    "from cryptography.hazmat.primitives.kdf.hkdf import HKDF\n",
    "from cryptography.hazmat.primitives.hashes import SHA256\n",
    "from cryptography.hazmat.backends import default_backend\n",
    "from cryptography.hazmat.primitives import serialization\n",
    "from cryptography.hazmat.primitives.serialization import load_pem_parameters\n",
    "from cryptography.hazmat.primitives.serialization import load_pem_public_key\n",
    "\n",
    "FFDHE2048_PEM = \"\"\"-----BEGIN DH PARAMETERS-----\n",
    "MIIBCAKCAQEA//////////+t+FRYortKmq/cViAnPTzx2LnFg84tNpWp4TZBFGQz\n",
    "+8yTnc4kmz75fS/jY2MMddj2gbICrsRhetPfHtXV/WVhJDP1H18GbtCFY2VVPe0a\n",
    "87VXE15/V8k1mE8McODmi3fipona8+/och3xWKE2rec1MKzKT0g6eXq8CrGCsyT7\n",
    "YdEIqUuyyOP7uWrat2DX9GgdT0Kj3jlN9K5W7edjcrsZCwenyO4KbXCeAvzhzffi\n",
    "7MA0BM0oNC9hkXL+nOmFg/+OTxIy7vKBg8P+OxtMb61zO7X8vC7CIAXFjvGDfRaD\n",
    "ssbzSibBsu/6iGtCOGEoXJf//////////wIBAg==\n",
    "-----END DH PARAMETERS-----\"\"\"\n",
    "\n",
    "parameters = load_pem_parameters(FFDHE2048_PEM.encode(\"utf-8\"), backend=default_backend())\n",
    "\n",
    "# generates a private-public key pair\n",
    "private_key_a = parameters.generate_private_key()\n",
    "public_key_a = private_key_a.public_key()\n",
    "\n",
    "# Serialize public keys for transmission\n",
    "pem_public_key_a = public_key_a.public_bytes(\n",
    "    encoding=serialization.Encoding.PEM,\n",
    "    format=serialization.PublicFormat.SubjectPublicKeyInfo\n",
    ")\n",
    "with open(\"public_key_a.pem\", \"wb\") as pem_file:\n",
    "    pem_file.write(pem_public_key_a)"
   ]
  },
  {
   "cell_type": "code",
   "execution_count": 2,
   "metadata": {},
   "outputs": [],
   "source": [
    "def derive_key(public_key_b_file: str):\n",
    "    try: \n",
    "        with open(public_key_b_file, \"rb\") as f:\n",
    "            received_public_key_b = load_pem_public_key(f.read())\n",
    "            \n",
    "        shared_secret = private_key_a.exchange(received_public_key_b)\n",
    "        derived_key = HKDF(\n",
    "                        algorithm=SHA256(),\n",
    "                        length=32,\n",
    "                        salt=None,\n",
    "                        info=b\"handshake data\",\n",
    "                        backend=default_backend()\n",
    "                        ).derive(shared_secret)\n",
    "        return derived_key\n",
    "    except:\n",
    "        print(\"File read error\")"
   ]
  },
  {
   "cell_type": "code",
   "execution_count": 3,
   "metadata": {},
   "outputs": [],
   "source": [
    "derived_key = derive_key(\"public_key_a.pem\")"
   ]
  },
  {
   "cell_type": "code",
   "execution_count": 4,
   "metadata": {},
   "outputs": [],
   "source": [
    "def encrypt_message(m: str):\n",
    "    nonce = os.urandom(12)\n",
    "    encryptor = Cipher(\n",
    "                    algorithms.AES(derived_key),\n",
    "                    modes.GCM(nonce),\n",
    "                    backend=default_backend()\n",
    "                ).encryptor()\n",
    "    ciphertext = encryptor.update(m.encode(\"utf-8\")) + encryptor.finalize()\n",
    "    auth_tag = encryptor.tag\n",
    "    \n",
    "    print(f\"Ciphertext: {ciphertext.hex()}\")\n",
    "    print(f\"Auth Tag: {auth_tag.hex()}\")\n",
    "    print(f\"nonce: {nonce.hex()}\")"
   ]
  },
  {
   "cell_type": "code",
   "execution_count": 5,
   "metadata": {},
   "outputs": [],
   "source": [
    "def decrypt_message(nonce: str, ciphertext: str, tag: str):\n",
    "    nonce = bytes.fromhex(nonce)\n",
    "    ciphertext = bytes.fromhex(ciphertext)\n",
    "    tag = bytes.fromhex(tag)\n",
    "    decryptor = Cipher(\n",
    "        algorithms.AES(derived_key),\n",
    "        modes.GCM(nonce, tag),\n",
    "        backend=default_backend()\n",
    "    ).decryptor()\n",
    "\n",
    "    try:\n",
    "        plaintext = decryptor.update(ciphertext) + decryptor.finalize()\n",
    "        print(f\"Decrypted Plaintext: {plaintext.decode('utf-8')}\")\n",
    "    except Exception as e:\n",
    "        print(f\"Decryption failed: {str(e)}\")"
   ]
  },
  {
   "cell_type": "code",
   "execution_count": 6,
   "metadata": {},
   "outputs": [
    {
     "name": "stdout",
     "output_type": "stream",
     "text": [
      "Decryption failed: \n"
     ]
    }
   ],
   "source": [
    "decrypt_message(nonce = \"9c89274dd469de6c8b72daff\", ciphertext=\"42a7ab9e442218e19e601da2d1c0f4e751\", tag=\"003d47a80c7e6b6cd96df6d8d06a79e0\")"
   ]
  },
  {
   "cell_type": "code",
   "execution_count": 1,
   "metadata": {},
   "outputs": [],
   "source": [
    "from generator import Generator\n",
    "g1 = Generator()\n",
    "g2 = Generator()"
   ]
  },
  {
   "cell_type": "code",
   "execution_count": 2,
   "metadata": {},
   "outputs": [
    {
     "data": {
      "text/plain": [
       "'Hi = 你好'"
      ]
     },
     "execution_count": 2,
     "metadata": {},
     "output_type": "execute_result"
    }
   ],
   "source": [
    "g1.DH_keygen()\n",
    "g2.DH_keygen()\n",
    "g1.DH_key_exchange(g2.get_public_key())\n",
    "g2.DH_key_exchange(g1.get_public_key())\n",
    "g1.decrypt_message(g2.encrypt_message(\"Hi = 你好\"))"
   ]
  },
  {
   "cell_type": "code",
   "execution_count": null,
   "metadata": {},
   "outputs": [],
   "source": []
  }
 ],
 "metadata": {
  "kernelspec": {
   "display_name": "Python 3",
   "language": "python",
   "name": "python3"
  },
  "language_info": {
   "codemirror_mode": {
    "name": "ipython",
    "version": 3
   },
   "file_extension": ".py",
   "mimetype": "text/x-python",
   "name": "python",
   "nbconvert_exporter": "python",
   "pygments_lexer": "ipython3",
   "version": "3.9.12"
  }
 },
 "nbformat": 4,
 "nbformat_minor": 2
}
